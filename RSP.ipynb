{
  "nbformat": 4,
  "nbformat_minor": 0,
  "metadata": {
    "colab": {
      "provenance": []
    },
    "kernelspec": {
      "name": "python3",
      "display_name": "Python 3"
    },
    "language_info": {
      "name": "python"
    }
  },
  "cells": [
    {
      "cell_type": "code",
      "execution_count": 19,
      "metadata": {
        "id": "MXXTuy_o0sjk"
      },
      "outputs": [],
      "source": [
        "!pip install -q -U kaggle_environments"
      ]
    },
    {
      "cell_type": "code",
      "source": [
        "import numpy as np\n",
        "import pandas as pd\n",
        "import random\n",
        "\n",
        "import matplotlib.pyplot as plt\n",
        "import seaborn as sns\n",
        "\n",
        "from kaggle_environments import make, evaluate"
      ],
      "metadata": {
        "id": "yz23vWHD0wcj"
      },
      "execution_count": 20,
      "outputs": []
    },
    {
      "cell_type": "markdown",
      "source": [
        "Агент 1. Всегда играет \"камень\" - это значение 0"
      ],
      "metadata": {
        "id": "0kuo6IOxiRub"
      }
    },
    {
      "cell_type": "code",
      "source": [
        "%%writefile rock_agent.py\n",
        "\n",
        "#Всегда выбирает 0 - камень\n",
        "def rock_agent(observation, configuration):\n",
        "    return 0"
      ],
      "metadata": {
        "id": "bqTqV7B92rJ6",
        "colab": {
          "base_uri": "https://localhost:8080/"
        },
        "outputId": "955f0bff-3fb5-4372-b426-b8773edb1423"
      },
      "execution_count": null,
      "outputs": [
        {
          "output_type": "stream",
          "name": "stdout",
          "text": [
            "Writing rock_agent.py\n"
          ]
        }
      ]
    },
    {
      "cell_type": "markdown",
      "source": [
        "Агент 2. Всегда играет \"бумага\" - это значение 1"
      ],
      "metadata": {
        "id": "ZohqJmof-eJj"
      }
    },
    {
      "cell_type": "code",
      "source": [
        "%%writefile paper_agent.py\n",
        "\n",
        "#Всегда выбирает 1 - бумага\n",
        "def paper_agent(observation, configuration):\n",
        "    return 0"
      ],
      "metadata": {
        "colab": {
          "base_uri": "https://localhost:8080/"
        },
        "id": "3Gcc47__-dya",
        "outputId": "c921df7b-9a92-4a51-bf11-025d5f11c33d"
      },
      "execution_count": 21,
      "outputs": [
        {
          "output_type": "stream",
          "name": "stdout",
          "text": [
            "Overwriting paper_agent.py\n"
          ]
        }
      ]
    },
    {
      "cell_type": "markdown",
      "source": [
        "Агент 3. Всегда играет \"ножницы\" - это значение 2"
      ],
      "metadata": {
        "id": "sHlWx3C--0t7"
      }
    },
    {
      "cell_type": "code",
      "source": [
        "%%writefile scissors_agent.py\n",
        "\n",
        "#Всегда выбирает 2 - ножницы\n",
        "def scissors_agent(observation, configuration):\n",
        "    return 0"
      ],
      "metadata": {
        "colab": {
          "base_uri": "https://localhost:8080/"
        },
        "id": "zTqwcBdU-s5M",
        "outputId": "243c8890-8261-4475-e456-f04bc71e1a75"
      },
      "execution_count": 22,
      "outputs": [
        {
          "output_type": "stream",
          "name": "stdout",
          "text": [
            "Overwriting scissors_agent.py\n"
          ]
        }
      ]
    },
    {
      "cell_type": "markdown",
      "source": [
        "Агент 4. Всегда выбирает случайное действие."
      ],
      "metadata": {
        "id": "Fh545OwlKmTj"
      }
    },
    {
      "cell_type": "code",
      "source": [
        "%%writefile random_agent.py\n",
        "\n",
        "def random_agent(observation, configuration):\n",
        "    return random.randrange(0, configuration.signs)\n"
      ],
      "metadata": {
        "id": "_Hq9lmHbKoLg",
        "outputId": "58a023ad-a0f8-42f2-b6b6-ebe9b27f8eb7",
        "colab": {
          "base_uri": "https://localhost:8080/"
        }
      },
      "execution_count": 23,
      "outputs": [
        {
          "output_type": "stream",
          "name": "stdout",
          "text": [
            "Overwriting random_agent.py\n"
          ]
        }
      ]
    },
    {
      "cell_type": "markdown",
      "source": [
        "Агент 5. Производит то же самое действие, что и оппонент на прошлом ходу. На первом ходу - случаный выбор."
      ],
      "metadata": {
        "id": "et1J5hUGigeh"
      }
    },
    {
      "cell_type": "code",
      "source": [
        "%%writefile copy_opponent.py\n",
        "\n",
        "def copy_opponent(observation, configuration):\n",
        "    #Если первый ход то идем рандомно\n",
        "    if observation.step == 0:\n",
        "        return random.randrange(0, configuration.signs)\n",
        "    #На 2 и остальных ходах выбираем то что ход назад выбирал противник\n",
        "    else:\n",
        "        return observation.lastOpponentAction\n"
      ],
      "metadata": {
        "id": "7l6Ttw6qi0jk",
        "colab": {
          "base_uri": "https://localhost:8080/"
        },
        "outputId": "d393e6bf-9ada-4139-890e-037d5cce347b"
      },
      "execution_count": 24,
      "outputs": [
        {
          "output_type": "stream",
          "name": "stdout",
          "text": [
            "Overwriting copy_opponent.py\n"
          ]
        }
      ]
    },
    {
      "cell_type": "markdown",
      "source": [
        "Агент 6. Производит случайно действия кроме того, что оппонент на прошлом ходу. На первом ходу - случаный выбор."
      ],
      "metadata": {
        "id": "eM4O479eLXFp"
      }
    },
    {
      "cell_type": "code",
      "source": [
        "%%writefile not_copy_opponent.py\n",
        "\n",
        "def not_copy_opponent(observation, configuration):\n",
        "    #Если первый ход то идем рандомно\n",
        "    if observation.step == 0:\n",
        "        return random.randrange(0, configuration.signs)\n",
        "    #На 2 и остальных ходах выбираем НЕ то что ход назад выбирал противник\n",
        "    else:\n",
        "        numbers = list(range(0, configuration.signs))\n",
        "        # удаляем из списка действий то, которое призвел противник на прошлом ходу и случаной выбираем между оставшимся\n",
        "        newnambers = numbers.remove(observation.lastOpponentAction)\n",
        "        not_copy_opponent = random.choice(newnambers)\n",
        "        return not_copy_opponent"
      ],
      "metadata": {
        "id": "BjFM6G2dLW2w",
        "outputId": "0f987d51-7b49-4383-c6fb-f642e43539f6",
        "colab": {
          "base_uri": "https://localhost:8080/"
        }
      },
      "execution_count": 25,
      "outputs": [
        {
          "output_type": "stream",
          "name": "stdout",
          "text": [
            "Overwriting not_copy_opponent.py\n"
          ]
        }
      ]
    },
    {
      "cell_type": "markdown",
      "source": [
        "Агент 7. Производит действие, которое бы било прошлый выбор противника. На первом ходу - случаный выбор."
      ],
      "metadata": {
        "id": "e68VgRVw65a0"
      }
    },
    {
      "cell_type": "code",
      "source": [
        "%%writefile react_action.py\n",
        "\n",
        "last_react_action = None\n",
        "def reactionary(observation, configuration):\n",
        "    global last_react_action\n",
        "    # Если это первый шаг, задаем случайное действие\n",
        "    if observation.step == 0:\n",
        "        last_react_action = random.randrange(0, configuration.signs)\n",
        "    # В остальных случаях, выбираем то что било бы прошлый выбор противника.\n",
        "    else:\n",
        "        last_react_action = (observation.lastOpponentAction + 1) % configuration.signs\n",
        "\n",
        "    return last_react_action"
      ],
      "metadata": {
        "colab": {
          "base_uri": "https://localhost:8080/"
        },
        "id": "QYpR6Unu6yOO",
        "outputId": "2f1f98da-af80-4872-ff10-d3a92e0072a7"
      },
      "execution_count": 26,
      "outputs": [
        {
          "output_type": "stream",
          "name": "stdout",
          "text": [
            "Overwriting react_action.py\n"
          ]
        }
      ]
    },
    {
      "cell_type": "markdown",
      "source": [
        "Агент 8. Не производит действие, которое бы било прошлый выбор противника. На первом ходу - случаный выбор."
      ],
      "metadata": {
        "id": "OB9vLmhSQVRF"
      }
    },
    {
      "cell_type": "code",
      "source": [
        "%%writefile unreact_action.py\n",
        "\n",
        "last_react_action = None\n",
        "def unreactionary(observation, configuration):\n",
        "    global last_react_action\n",
        "    # Если это первый шаг, задаем случайное действие\n",
        "    if observation.step == 0:\n",
        "        last_react_action = random.randrange(0, configuration.signs)\n",
        "    # В остальных случаях, выбираем то что НЕ било бы прошлый выбор противника.\n",
        "    else:\n",
        "        numbers = list(range(0, configuration.signs))\n",
        "        # удаляем из списка действий то, которое било бы противника на прошлом ходу и случаной выбираем между оставшимся\n",
        "        newnambers = numbers.remove(observation.lastOpponentAction)\n",
        "        last_react_action = random.choice(newnambers)\n",
        "    return last_react_action"
      ],
      "metadata": {
        "id": "fxii2hLMQUxZ",
        "outputId": "c4a9ed1b-29e2-4921-8652-45a5a962315b",
        "colab": {
          "base_uri": "https://localhost:8080/"
        }
      },
      "execution_count": 27,
      "outputs": [
        {
          "output_type": "stream",
          "name": "stdout",
          "text": [
            "Overwriting unreact_action.py\n"
          ]
        }
      ]
    },
    {
      "cell_type": "markdown",
      "source": [
        "Агент 9. Производит действие, которое:\n",
        "*   если противник выиграл то выбирем то что мы били бы в прошлый раз\n",
        "*   В остальных случаях выбираем то что било бы противника в прошлый раз\n",
        "\n",
        "На первом ходу - случаный выбор."
      ],
      "metadata": {
        "id": "BDgRYVLeTzgZ"
      }
    },
    {
      "cell_type": "code",
      "source": [
        "%%writefile counter_reaction.py\n",
        "\n",
        "last_counter_action = None\n",
        "\n",
        "def counter_reactionary(observation, configuration):\n",
        "    global last_counter_action\n",
        "    # Если это первый шаг, задаем случайное действие\n",
        "    if observation.step == 0:\n",
        "        last_counter_action = random.randrange(0, configuration.signs)\n",
        "    # Узнаем, выиграл ли противник в прошлый раз\n",
        "    elif get_score(last_counter_action, observation.lastOpponentAction) == 1:\n",
        "        # Если противник выиграл то выбирем то что мы били бы в прошлый раз\n",
        "        last_counter_action = (last_counter_action + 2) % configuration.signs\n",
        "    # В остальных случаях выбираем то что било бы противника в прошлый раз\n",
        "    else:\n",
        "        last_counter_action = (observation.lastOpponentAction + 1) % configuration.signs\n",
        "\n",
        "    return last_counter_action"
      ],
      "metadata": {
        "colab": {
          "base_uri": "https://localhost:8080/"
        },
        "id": "onzpSj0xsaPO",
        "outputId": "ba284042-bcf4-460c-c26a-48ed3a562e9f"
      },
      "execution_count": 28,
      "outputs": [
        {
          "output_type": "stream",
          "name": "stdout",
          "text": [
            "Overwriting counter_reaction.py\n"
          ]
        }
      ]
    },
    {
      "cell_type": "markdown",
      "source": [
        "Агент 10. Производит действие, которое:\n",
        "*   если противник выиграл то выбираем то что било бы противника в прошлый раз\n",
        "*   В остальных случаях выбирем то что мы били бы в прошлый раз\n",
        "\n",
        "На первом ходу - случаный выбор."
      ],
      "metadata": {
        "id": "obAmxiigVs8v"
      }
    },
    {
      "cell_type": "code",
      "source": [
        "%%writefile uncounter_reaction.py\n",
        "\n",
        "last_uncounter_action = None\n",
        "\n",
        "def uncounter_reactionary(observation, configuration):\n",
        "    global last_uncounter_action\n",
        "    # Если это первый шаг, задаем случайное действие\n",
        "    if observation.step == 0:\n",
        "        last_uncounter_action = random.randrange(0, configuration.signs)\n",
        "    # Узнаем, выиграл ли противник в прошлый раз\n",
        "    elif get_score(last_uncounter_action, observation.lastOpponentAction) == 1:\n",
        "        last_uncounter_action = (observation.lastOpponentAction + 1) % configuration.signs\n",
        "    else:\n",
        "        last_uncounter_action = (last_uncounter_action + 2) % configuration.signs\n",
        "\n",
        "    return last_uncounter_action"
      ],
      "metadata": {
        "id": "3jjxXLoXVxYC",
        "outputId": "a207a220-74ee-4119-a693-8eac21a1f5a2",
        "colab": {
          "base_uri": "https://localhost:8080/"
        }
      },
      "execution_count": 29,
      "outputs": [
        {
          "output_type": "stream",
          "name": "stdout",
          "text": [
            "Writing uncounter_reaction.py\n"
          ]
        }
      ]
    },
    {
      "cell_type": "markdown",
      "source": [
        "Агент 11. Повторяет свой прошлый выбор, если в прошлый раз выиграл, если нет - рандом. На первом ходу - случаный выбор."
      ],
      "metadata": {
        "id": "sZZ8nw9U-LOL"
      }
    },
    {
      "cell_type": "code",
      "source": [
        "%%writefile repeat_if_win.py\n",
        "\n",
        "last_react_action = None\n",
        "def repeat_if_win(observation, configuration):\n",
        "    global last_react_action\n",
        "    # Если это первый шаг, задаем случайное действие и возвращаем его\n",
        "    if observation.step == 0:\n",
        "        last_react_action = random.randrange(0, configuration.signs)\n",
        "        return last_react_action\n",
        "    # Проверяем результат предыдущего действия\n",
        "    if get_score(last_react_action, observation.lastOpponentAction) > 0:\n",
        "        # Если выиграли, повторяем то же действие\n",
        "        return last_react_action\n",
        "    else:\n",
        "        # Если проиграли или ничья, выбираем новое случайное действие\n",
        "        last_react_action = random.randrange(0, configuration.signs)\n",
        "        return last_react_action"
      ],
      "metadata": {
        "colab": {
          "base_uri": "https://localhost:8080/"
        },
        "id": "YFzqGv6Q8FSf",
        "outputId": "9e4c63aa-6ed8-48a2-cd78-6393b1e7d19c"
      },
      "execution_count": 30,
      "outputs": [
        {
          "output_type": "stream",
          "name": "stdout",
          "text": [
            "Writing repeat_if_win.py\n"
          ]
        }
      ]
    },
    {
      "cell_type": "markdown",
      "source": [
        "Агент 12. Повторяет свой прошлый выбор, если в прошлый раз проиграл, если нет - рандом. На первом ходу - случаный выбор."
      ],
      "metadata": {
        "id": "cvjfBDbhKV7n"
      }
    },
    {
      "cell_type": "code",
      "source": [
        "%%writefile repeat_if_lose.py\n",
        "\n",
        "last_react_action = None\n",
        "\n",
        "def repeat_if_lose(observation, configuration):\n",
        "    global last_react_action\n",
        "    # Если это первый шаг, задаем случайное действие и возвращаем его\n",
        "    if observation.step == 0:\n",
        "        last_react_action = random.randrange(0, configuration.signs)\n",
        "        return last_react_action\n",
        "    # Проверяем результат предыдущего действия\n",
        "    if get_score(last_react_action, observation.lastOpponentAction) < 0:\n",
        "        # Если проиграли, повторяем то же действие\n",
        "        return last_react_action\n",
        "    else:\n",
        "        # Если выиграли или ничья, выбираем новое случайное действие\n",
        "        last_react_action = random.randrange(0, configuration.signs)\n",
        "        return last_react_action"
      ],
      "metadata": {
        "id": "dce_NzPaKZ1l",
        "outputId": "f01b10d1-51ec-4959-c148-e589042454cc",
        "colab": {
          "base_uri": "https://localhost:8080/"
        }
      },
      "execution_count": 31,
      "outputs": [
        {
          "output_type": "stream",
          "name": "stdout",
          "text": [
            "Writing repeat_if_lose.py\n"
          ]
        }
      ]
    },
    {
      "cell_type": "markdown",
      "source": [
        "Агент 13. Перебирает на первом ходу камень, на втором - бумага, на третьем - ножницы, на четветом - камень,  и так - по кругу"
      ],
      "metadata": {
        "id": "C0PRrIEwaUaB"
      }
    },
    {
      "cell_type": "code",
      "source": [
        "%%writefile zero_one_two.py\n",
        "\n",
        "def zero_one_two(observation, configuration):\n",
        "        return (observation.step + 2) % configuration.signs"
      ],
      "metadata": {
        "id": "-eFIJw9QaR8v",
        "outputId": "ce357887-1e9e-421d-a872-bc49ff2bce85",
        "colab": {
          "base_uri": "https://localhost:8080/"
        }
      },
      "execution_count": 32,
      "outputs": [
        {
          "output_type": "stream",
          "name": "stdout",
          "text": [
            "Writing zero_one_two.py\n"
          ]
        }
      ]
    },
    {
      "cell_type": "markdown",
      "source": [
        "Агент 14.\n",
        "\n",
        "Перебирает на первом ходу камень, на втором - бумага, на третьем - ножницы, на четветом - камень,  и так - по кругу.\n",
        "\n",
        "Когда выигрывает - повторяет что было в прошлый раз."
      ],
      "metadata": {
        "id": "vgkwA3BrdG-9"
      }
    },
    {
      "cell_type": "code",
      "source": [
        "%%writefile repeat_if_win_or_zero_one_two.py\n",
        "\n",
        "last_react_action = 0\n",
        "def repeat_if_win_or_zero_one_two(observation, configuration):\n",
        "    global last_react_action\n",
        "    # Для не первого шага:\n",
        "    if observation.step > 0:\n",
        "        # Проверяем результат предыдущего действия\n",
        "        if get_score(last_react_action, observation.lastOpponentAction) > 0:\n",
        "           # Если выиграли, повторяем то же действие\n",
        "           return last_react_action\n",
        "        else:\n",
        "            # Если проиграли или ничья, выбираем новое случайное действие\n",
        "            last_react_action = (observation.step + 2) % configuration.signs\n",
        "    return last_react_action"
      ],
      "metadata": {
        "id": "xxFQP5aJcxas",
        "outputId": "2c5a1644-621e-4624-9892-099ac84b8ac0",
        "colab": {
          "base_uri": "https://localhost:8080/"
        }
      },
      "execution_count": 33,
      "outputs": [
        {
          "output_type": "stream",
          "name": "stdout",
          "text": [
            "Writing repeat_if_win_or_zero_one_two.py\n"
          ]
        }
      ]
    },
    {
      "cell_type": "markdown",
      "source": [
        "Воспользуемся функцией evaluate из библиотеки kaggle_environments с помощью которой запустим наших агентов и проведем эксперимент на заданном количестве игр"
      ],
      "metadata": {
        "id": "ExgIpXUVjbjN"
      }
    },
    {
      "cell_type": "code",
      "source": [
        "evaluate(\n",
        "    \"rps\", #environment to use - no need to change\n",
        "    [\"random_agent.py\", \"scissors_agent.py\"], #agents to evaluate\n",
        "    configuration={\"episodeSteps\": 100} #number of episodes\n",
        ")"
      ],
      "metadata": {
        "id": "wv6Ip6M004xa",
        "colab": {
          "base_uri": "https://localhost:8080/",
          "height": 356
        },
        "outputId": "8cef6ef4-fa8f-470c-82b4-77bc4a2e5039"
      },
      "execution_count": null,
      "outputs": [
        {
          "output_type": "error",
          "ename": "TypeError",
          "evalue": "'<' not supported between instances of 'str' and 'int'",
          "traceback": [
            "\u001b[0;31m---------------------------------------------------------------------------\u001b[0m",
            "\u001b[0;31mTypeError\u001b[0m                                 Traceback (most recent call last)",
            "\u001b[0;32m<ipython-input-7-7a97539dd9be>\u001b[0m in \u001b[0;36m<cell line: 1>\u001b[0;34m()\u001b[0m\n\u001b[0;32m----> 1\u001b[0;31m evaluate(\n\u001b[0m\u001b[1;32m      2\u001b[0m     \u001b[0;34m\"rps\"\u001b[0m\u001b[0;34m,\u001b[0m \u001b[0;31m#environment to use - no need to change\u001b[0m\u001b[0;34m\u001b[0m\u001b[0;34m\u001b[0m\u001b[0m\n\u001b[1;32m      3\u001b[0m     \u001b[0;34m[\u001b[0m\u001b[0;34m\"random_agent.py\"\u001b[0m\u001b[0;34m,\u001b[0m \u001b[0;34m\"scissors_agent.py\"\u001b[0m\u001b[0;34m]\u001b[0m\u001b[0;34m,\u001b[0m \u001b[0;31m#agents to evaluate\u001b[0m\u001b[0;34m\u001b[0m\u001b[0;34m\u001b[0m\u001b[0m\n\u001b[1;32m      4\u001b[0m     \u001b[0mconfiguration\u001b[0m\u001b[0;34m=\u001b[0m\u001b[0;34m{\u001b[0m\u001b[0;34m\"episodeSteps\"\u001b[0m\u001b[0;34m:\u001b[0m \u001b[0;36m100\u001b[0m\u001b[0;34m}\u001b[0m \u001b[0;31m#number of episodes\u001b[0m\u001b[0;34m\u001b[0m\u001b[0;34m\u001b[0m\u001b[0m\n\u001b[1;32m      5\u001b[0m )\n",
            "\u001b[0;32m/usr/local/lib/python3.10/dist-packages/kaggle_environments/core.py\u001b[0m in \u001b[0;36mevaluate\u001b[0;34m(environment, agents, configuration, steps, num_episodes, debug, state)\u001b[0m\n\u001b[1;32m     70\u001b[0m     \u001b[0mrewards\u001b[0m \u001b[0;34m=\u001b[0m \u001b[0;34m[\u001b[0m\u001b[0;34m[\u001b[0m\u001b[0;34m]\u001b[0m \u001b[0;32mfor\u001b[0m \u001b[0mi\u001b[0m \u001b[0;32min\u001b[0m \u001b[0mrange\u001b[0m\u001b[0;34m(\u001b[0m\u001b[0mnum_episodes\u001b[0m\u001b[0;34m)\u001b[0m\u001b[0;34m]\u001b[0m\u001b[0;34m\u001b[0m\u001b[0;34m\u001b[0m\u001b[0m\n\u001b[1;32m     71\u001b[0m     \u001b[0;32mfor\u001b[0m \u001b[0mi\u001b[0m \u001b[0;32min\u001b[0m \u001b[0mrange\u001b[0m\u001b[0;34m(\u001b[0m\u001b[0mnum_episodes\u001b[0m\u001b[0;34m)\u001b[0m\u001b[0;34m:\u001b[0m\u001b[0;34m\u001b[0m\u001b[0;34m\u001b[0m\u001b[0m\n\u001b[0;32m---> 72\u001b[0;31m         \u001b[0mlast_state\u001b[0m \u001b[0;34m=\u001b[0m \u001b[0me\u001b[0m\u001b[0;34m.\u001b[0m\u001b[0mrun\u001b[0m\u001b[0;34m(\u001b[0m\u001b[0magents\u001b[0m\u001b[0;34m)\u001b[0m\u001b[0;34m[\u001b[0m\u001b[0;34m-\u001b[0m\u001b[0;36m1\u001b[0m\u001b[0;34m]\u001b[0m\u001b[0;34m\u001b[0m\u001b[0;34m\u001b[0m\u001b[0m\n\u001b[0m\u001b[1;32m     73\u001b[0m         \u001b[0mrewards\u001b[0m\u001b[0;34m[\u001b[0m\u001b[0mi\u001b[0m\u001b[0;34m]\u001b[0m \u001b[0;34m=\u001b[0m \u001b[0;34m[\u001b[0m\u001b[0mstate\u001b[0m\u001b[0;34m.\u001b[0m\u001b[0mreward\u001b[0m \u001b[0;32mfor\u001b[0m \u001b[0mstate\u001b[0m \u001b[0;32min\u001b[0m \u001b[0mlast_state\u001b[0m\u001b[0;34m]\u001b[0m\u001b[0;34m\u001b[0m\u001b[0;34m\u001b[0m\u001b[0m\n\u001b[1;32m     74\u001b[0m     \u001b[0;32mreturn\u001b[0m \u001b[0mrewards\u001b[0m\u001b[0;34m\u001b[0m\u001b[0;34m\u001b[0m\u001b[0m\n",
            "\u001b[0;32m/usr/local/lib/python3.10/dist-packages/kaggle_environments/core.py\u001b[0m in \u001b[0;36mrun\u001b[0;34m(self, agents)\u001b[0m\n\u001b[1;32m    262\u001b[0m                 f\"{len(self.state)} agents were expected, but {len(agents)} was given.\")\n\u001b[1;32m    263\u001b[0m \u001b[0;34m\u001b[0m\u001b[0m\n\u001b[0;32m--> 264\u001b[0;31m         \u001b[0mrunner\u001b[0m \u001b[0;34m=\u001b[0m \u001b[0mself\u001b[0m\u001b[0;34m.\u001b[0m\u001b[0m__agent_runner\u001b[0m\u001b[0;34m(\u001b[0m\u001b[0magents\u001b[0m\u001b[0;34m)\u001b[0m\u001b[0;34m\u001b[0m\u001b[0;34m\u001b[0m\u001b[0m\n\u001b[0m\u001b[1;32m    265\u001b[0m         \u001b[0mstart\u001b[0m \u001b[0;34m=\u001b[0m \u001b[0mperf_counter\u001b[0m\u001b[0;34m(\u001b[0m\u001b[0;34m)\u001b[0m\u001b[0;34m\u001b[0m\u001b[0;34m\u001b[0m\u001b[0m\n\u001b[1;32m    266\u001b[0m         \u001b[0;32mwhile\u001b[0m \u001b[0;32mnot\u001b[0m \u001b[0mself\u001b[0m\u001b[0;34m.\u001b[0m\u001b[0mdone\u001b[0m \u001b[0;32mand\u001b[0m \u001b[0mperf_counter\u001b[0m\u001b[0;34m(\u001b[0m\u001b[0;34m)\u001b[0m \u001b[0;34m-\u001b[0m \u001b[0mstart\u001b[0m \u001b[0;34m<\u001b[0m \u001b[0mself\u001b[0m\u001b[0;34m.\u001b[0m\u001b[0mconfiguration\u001b[0m\u001b[0;34m.\u001b[0m\u001b[0mrunTimeout\u001b[0m\u001b[0;34m:\u001b[0m\u001b[0;34m\u001b[0m\u001b[0;34m\u001b[0m\u001b[0m\n",
            "\u001b[0;32m/usr/local/lib/python3.10/dist-packages/kaggle_environments/core.py\u001b[0m in \u001b[0;36m__agent_runner\u001b[0;34m(self, agents)\u001b[0m\n\u001b[1;32m    668\u001b[0m     \u001b[0;32mdef\u001b[0m \u001b[0m__agent_runner\u001b[0m\u001b[0;34m(\u001b[0m\u001b[0mself\u001b[0m\u001b[0;34m,\u001b[0m \u001b[0magents\u001b[0m\u001b[0;34m)\u001b[0m\u001b[0;34m:\u001b[0m\u001b[0;34m\u001b[0m\u001b[0;34m\u001b[0m\u001b[0m\n\u001b[1;32m    669\u001b[0m         \u001b[0;31m# Generate the agents.\u001b[0m\u001b[0;34m\u001b[0m\u001b[0;34m\u001b[0m\u001b[0m\n\u001b[0;32m--> 670\u001b[0;31m         agents = [\n\u001b[0m\u001b[1;32m    671\u001b[0m             \u001b[0mAgent\u001b[0m\u001b[0;34m(\u001b[0m\u001b[0magent\u001b[0m\u001b[0;34m,\u001b[0m \u001b[0mself\u001b[0m\u001b[0;34m)\u001b[0m\u001b[0;34m\u001b[0m\u001b[0;34m\u001b[0m\u001b[0m\n\u001b[1;32m    672\u001b[0m             \u001b[0;32mif\u001b[0m \u001b[0magent\u001b[0m \u001b[0;32mis\u001b[0m \u001b[0;32mnot\u001b[0m \u001b[0;32mNone\u001b[0m\u001b[0;34m\u001b[0m\u001b[0;34m\u001b[0m\u001b[0m\n",
            "\u001b[0;32m/usr/local/lib/python3.10/dist-packages/kaggle_environments/core.py\u001b[0m in \u001b[0;36m<listcomp>\u001b[0;34m(.0)\u001b[0m\n\u001b[1;32m    669\u001b[0m         \u001b[0;31m# Generate the agents.\u001b[0m\u001b[0;34m\u001b[0m\u001b[0;34m\u001b[0m\u001b[0m\n\u001b[1;32m    670\u001b[0m         agents = [\n\u001b[0;32m--> 671\u001b[0;31m             \u001b[0mAgent\u001b[0m\u001b[0;34m(\u001b[0m\u001b[0magent\u001b[0m\u001b[0;34m,\u001b[0m \u001b[0mself\u001b[0m\u001b[0;34m)\u001b[0m\u001b[0;34m\u001b[0m\u001b[0;34m\u001b[0m\u001b[0m\n\u001b[0m\u001b[1;32m    672\u001b[0m             \u001b[0;32mif\u001b[0m \u001b[0magent\u001b[0m \u001b[0;32mis\u001b[0m \u001b[0;32mnot\u001b[0m \u001b[0;32mNone\u001b[0m\u001b[0;34m\u001b[0m\u001b[0;34m\u001b[0m\u001b[0m\n\u001b[1;32m    673\u001b[0m             \u001b[0;32melse\u001b[0m \u001b[0;32mNone\u001b[0m\u001b[0;34m\u001b[0m\u001b[0;34m\u001b[0m\u001b[0m\n",
            "\u001b[0;32m/usr/local/lib/python3.10/dist-packages/kaggle_environments/agent.py\u001b[0m in \u001b[0;36m__init__\u001b[0;34m(self, raw, environment)\u001b[0m\n\u001b[1;32m    141\u001b[0m         \u001b[0mself\u001b[0m\u001b[0;34m.\u001b[0m\u001b[0menvironment_name\u001b[0m \u001b[0;34m=\u001b[0m \u001b[0menvironment\u001b[0m\u001b[0;34m.\u001b[0m\u001b[0mname\u001b[0m\u001b[0;34m\u001b[0m\u001b[0;34m\u001b[0m\u001b[0m\n\u001b[1;32m    142\u001b[0m         \u001b[0mself\u001b[0m\u001b[0;34m.\u001b[0m\u001b[0mraw\u001b[0m \u001b[0;34m=\u001b[0m \u001b[0mraw\u001b[0m\u001b[0;34m\u001b[0m\u001b[0;34m\u001b[0m\u001b[0m\n\u001b[0;32m--> 143\u001b[0;31m         \u001b[0mself\u001b[0m\u001b[0;34m.\u001b[0m\u001b[0magent\u001b[0m\u001b[0;34m,\u001b[0m \u001b[0mself\u001b[0m\u001b[0;34m.\u001b[0m\u001b[0mis_parallelizable\u001b[0m \u001b[0;34m=\u001b[0m \u001b[0mbuild_agent\u001b[0m\u001b[0;34m(\u001b[0m\u001b[0mself\u001b[0m\u001b[0;34m.\u001b[0m\u001b[0mraw\u001b[0m\u001b[0;34m,\u001b[0m \u001b[0mself\u001b[0m\u001b[0;34m.\u001b[0m\u001b[0mbuiltin_agents\u001b[0m\u001b[0;34m,\u001b[0m \u001b[0mself\u001b[0m\u001b[0;34m.\u001b[0m\u001b[0menvironment_name\u001b[0m\u001b[0;34m)\u001b[0m\u001b[0;34m\u001b[0m\u001b[0;34m\u001b[0m\u001b[0m\n\u001b[0m\u001b[1;32m    144\u001b[0m \u001b[0;34m\u001b[0m\u001b[0m\n\u001b[1;32m    145\u001b[0m     \u001b[0;32mdef\u001b[0m \u001b[0mact\u001b[0m\u001b[0;34m(\u001b[0m\u001b[0mself\u001b[0m\u001b[0;34m,\u001b[0m \u001b[0mobservation\u001b[0m\u001b[0;34m)\u001b[0m\u001b[0;34m:\u001b[0m\u001b[0;34m\u001b[0m\u001b[0;34m\u001b[0m\u001b[0m\n",
            "\u001b[0;32m/usr/local/lib/python3.10/dist-packages/kaggle_environments/agent.py\u001b[0m in \u001b[0;36mbuild_agent\u001b[0;34m(raw, builtin_agents, environment_name)\u001b[0m\n\u001b[1;32m    114\u001b[0m     \u001b[0;32mif\u001b[0m \u001b[0mos\u001b[0m\u001b[0;34m.\u001b[0m\u001b[0mpath\u001b[0m\u001b[0;34m.\u001b[0m\u001b[0mexists\u001b[0m\u001b[0;34m(\u001b[0m\u001b[0mraw\u001b[0m\u001b[0;34m)\u001b[0m\u001b[0;34m:\u001b[0m\u001b[0;34m\u001b[0m\u001b[0;34m\u001b[0m\u001b[0m\n\u001b[1;32m    115\u001b[0m         \u001b[0mraw_agent\u001b[0m \u001b[0;34m=\u001b[0m \u001b[0mread_file\u001b[0m\u001b[0;34m(\u001b[0m\u001b[0mraw\u001b[0m\u001b[0;34m,\u001b[0m \u001b[0mraw\u001b[0m\u001b[0;34m)\u001b[0m\u001b[0;34m\u001b[0m\u001b[0;34m\u001b[0m\u001b[0m\n\u001b[0;32m--> 116\u001b[0;31m     \u001b[0;32melif\u001b[0m \u001b[0;34m(\u001b[0m\u001b[0mlen\u001b[0m\u001b[0;34m(\u001b[0m\u001b[0mraw\u001b[0m\u001b[0;34m)\u001b[0m \u001b[0;34m<\u001b[0m \u001b[0;36m100\u001b[0m \u001b[0;32mand\u001b[0m \u001b[0;34m(\u001b[0m\u001b[0;34m\"/\"\u001b[0m \u001b[0;32min\u001b[0m \u001b[0mraw\u001b[0m \u001b[0;32mor\u001b[0m \u001b[0;34m\"\\\\\"\u001b[0m \u001b[0;32min\u001b[0m \u001b[0mraw\u001b[0m\u001b[0;34m)\u001b[0m\u001b[0;34m)\u001b[0m \u001b[0;32mor\u001b[0m \u001b[0mraw\u001b[0m \u001b[0;34m<\u001b[0m \u001b[0;36m20\u001b[0m\u001b[0;34m:\u001b[0m\u001b[0;34m\u001b[0m\u001b[0;34m\u001b[0m\u001b[0m\n\u001b[0m\u001b[1;32m    117\u001b[0m         \u001b[0;32mraise\u001b[0m \u001b[0mFileNotFoundError\u001b[0m\u001b[0;34m(\u001b[0m\u001b[0;34m\"Could not find : \"\u001b[0m \u001b[0;34m+\u001b[0m \u001b[0mraw\u001b[0m\u001b[0;34m)\u001b[0m\u001b[0;34m\u001b[0m\u001b[0;34m\u001b[0m\u001b[0m\n\u001b[1;32m    118\u001b[0m \u001b[0;34m\u001b[0m\u001b[0m\n",
            "\u001b[0;31mTypeError\u001b[0m: '<' not supported between instances of 'str' and 'int'"
          ]
        }
      ]
    },
    {
      "cell_type": "code",
      "source": [
        "evaluate(\n",
        "    \"rps\", #environment to use - no need to change\n",
        "    [\"rock_agent.py\", \"scissors_agent.py\"], #agents to evaluate\n",
        "    configuration={\"episodeSteps\": 100} #number of episodes\n",
        ")"
      ],
      "metadata": {
        "id": "FC6_QWe9k3rr",
        "colab": {
          "base_uri": "https://localhost:8080/"
        },
        "outputId": "1b76866b-9ef9-4684-9583-2ee652db4374"
      },
      "execution_count": null,
      "outputs": [
        {
          "output_type": "execute_result",
          "data": {
            "text/plain": [
              "[[0, 0]]"
            ]
          },
          "metadata": {},
          "execution_count": 103
        }
      ]
    }
  ]
}